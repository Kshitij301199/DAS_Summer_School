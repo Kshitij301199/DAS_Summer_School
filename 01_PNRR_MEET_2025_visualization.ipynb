{
 "cells": [
  {
   "cell_type": "markdown",
   "metadata": {},
   "source": [
    "# Import"
   ]
  },
  {
   "cell_type": "code",
   "execution_count": 1,
   "metadata": {},
   "outputs": [],
   "source": [
    "import xdas as xd\n",
    "import numpy as np\n",
    "import scipy.signal as sp\n",
    "import matplotlib.pyplot as plt\n",
    "import matplotlib.colors as colors\n",
    "import matplotlib.dates as mdates"
   ]
  },
  {
   "cell_type": "code",
   "execution_count": null,
   "metadata": {},
   "outputs": [],
   "source": [
    "# -- Axes --\n",
    "plt.rcParams[\"axes.spines.bottom\"] = True\n",
    "plt.rcParams[\"axes.spines.left\"] = True\n",
    "plt.rcParams[\"axes.spines.right\"] = True\n",
    "plt.rcParams[\"axes.spines.top\"] = True\n",
    "plt.rcParams[\"grid.linewidth\"] = 0.5\n",
    "plt.rcParams[\"axes.axisbelow\"] = False\n",
    "plt.rcParams[\"axes.linewidth\"] = 1\n",
    "plt.rcParams[\"axes.ymargin\"] = 0.1\n",
    "plt.rcParams[\"font.size\"] = 10\n",
    "plt.rcParams[\"figure.dpi\"] = 300\n",
    "# -- Ticks and tick labels --\n",
    "plt.rcParams[\"axes.edgecolor\"] = \"k\"\n",
    "plt.rcParams[\"xtick.color\"] = \"k\"\n",
    "plt.rcParams[\"ytick.color\"] = \"k\"\n",
    "plt.rcParams[\"xtick.major.width\"] = 2\n",
    "plt.rcParams[\"ytick.major.width\"] = 2\n",
    "plt.rcParams[\"xtick.major.size\"] = 2\n",
    "plt.rcParams[\"xtick.minor.size\"] = 1\n",
    "plt.rcParams[\"ytick.major.size\"] = 2\n",
    "plt.rcParams[\"ytick.minor.size\"] = 1\n",
    "# -- Fonts --\n",
    "plt.rcParams[\"font.size\"] = 10\n",
    "plt.rcParams[\"text.color\"] = \"k\"\n",
    "plt.rcParams[\"axes.labelcolor\"] = \"k\"\n",
    "plt.rcParams[\"axes.labelsize\"] = 10\n",
    "# -- Saving Options --\n",
    "plt.rcParams[\"savefig.bbox\"] = \"tight\"\n",
    "plt.rcParams[\"savefig.dpi\"] = 300\n",
    "plt.rcParams[\"savefig.transparent\"] = False\n",
    "# -- Plot Styles --\n",
    "plt.rcParams[\"lines.linewidth\"] = 2\n",
    "plt.rcParams[\"lines.markersize\"] = 0.1\n",
    "plt.rcParams[\"lines.markeredgewidth\"] = 0.1\n",
    "plt.rcParams[\"figure.dpi\"] = 300\n",
    "\n",
    "mm = 1 / 25.4"
   ]
  },
  {
   "cell_type": "markdown",
   "metadata": {},
   "source": [
    "# Paths and directories"
   ]
  },
  {
   "cell_type": "code",
   "execution_count": null,
   "metadata": {},
   "outputs": [],
   "source": [
    "h5_dir = f\"./data/17815r/\""
   ]
  },
  {
   "cell_type": "markdown",
   "metadata": {},
   "source": [
    "# Read data"
   ]
  },
  {
   "cell_type": "code",
   "execution_count": null,
   "metadata": {},
   "outputs": [],
   "source": [
    "da = xd.open_mfdataarray(f\"{h5_dir}/*.h5\", engine=\"febus\")"
   ]
  },
  {
   "cell_type": "markdown",
   "metadata": {},
   "source": [
    "# First plot raw  (just mean removal)"
   ]
  },
  {
   "cell_type": "code",
   "execution_count": null,
   "metadata": {},
   "outputs": [],
   "source": [
    "vlim = np.nanpercentile(np.abs(da.values), 90)\n",
    "fig, axes = plt.subplots(\n",
    "    nrows=1,\n",
    "    ncols=1,\n",
    "    figsize=(150*mm, 80*mm),\n",
    "    dpi=300\n",
    ")\n",
    "ax = axes\n",
    "da.plot(robust=True,\n",
    "    yincrease=False,\n",
    "    vmin=-vlim, vmax=vlim,\n",
    "    ax=ax, \n",
    "    cmap=\"seismic\", \n",
    "    cbar_kwargs={\n",
    "        \"label\": r\"$\\dot{\\varepsilon}$ [s$^{-1}$]\",\n",
    "    })\n",
    "plt.show()"
   ]
  },
  {
   "cell_type": "markdown",
   "metadata": {},
   "source": [
    "# Data selection"
   ]
  },
  {
   "cell_type": "code",
   "execution_count": null,
   "metadata": {},
   "outputs": [],
   "source": [
    "# Time selection (fmt \"YYYY-MM-DDTHH:MM:SS.sss\")\n",
    "starttime = \"2025-03-18T09:01:20.000\"\n",
    "endtime = \"2025-03-18T09:02:05.000\"\n",
    "# Distance selection (in meters)\n",
    "startdist = 60.0\n",
    "enddist = 21450.0\n",
    "\n",
    "da_sel = da.sel(\n",
    "    time=slice(starttime, endtime),\n",
    "    distance=slice(startdist, enddist),\n",
    ")\n",
    "\n",
    "# Plot\n",
    "vlim = np.nanpercentile(np.abs(da_sel.values), 90)\n",
    "fig, axes = plt.subplots(\n",
    "    nrows=1,\n",
    "    ncols=1,\n",
    "    figsize=(150*mm, 80*mm),\n",
    "    dpi=300\n",
    ")\n",
    "ax = axes\n",
    "da_sel.plot(robust=True,\n",
    "    yincrease=False,\n",
    "    vmin=-vlim, vmax=vlim,\n",
    "    ax=ax, \n",
    "    cmap=\"seismic\", \n",
    "    cbar_kwargs={\n",
    "        \"label\": r\"$\\dot{\\varepsilon}$ [s$^{-1}$]\",\n",
    "    })\n",
    "plt.show()"
   ]
  },
  {
   "cell_type": "markdown",
   "metadata": {},
   "source": [
    "# Plot single traces very N receivers"
   ]
  },
  {
   "cell_type": "code",
   "execution_count": null,
   "metadata": {},
   "outputs": [],
   "source": [
    "N = 400\n",
    "for ch, dist in enumerate(da_sel[\"distance\"]):\n",
    "    if (ch % N == 0) & (ch != 0):\n",
    "        trace = da_sel.isel(distance=ch)\n",
    "        time_sec = (trace[\"time\"].values - trace[\"time\"].values[0]) / np.timedelta64(1, \"s\")\n",
    "        maxamp = np.max(np.abs(trace.values))\n",
    "        ylim = maxamp + maxamp * 0.05\n",
    "        plt.figure(\n",
    "            figsize=(100*mm, 25*mm),\n",
    "        )\n",
    "        plt.plot(time_sec, trace, \"k\", lw=0.5)\n",
    "        plt.ylim([-ylim, ylim])\n",
    "        plt.xlabel(\"Time (UTC)\", fontsize=8)\n",
    "        plt.ylabel(r\"$\\dot{\\varepsilon}$ [s$^{-1}$]\", fontsize=8)\n",
    "        plt.title(f\"Distance from DAS: {np.round(trace['distance'].values, 1)}m\", fontsize=8)\n",
    "        plt.xticks(fontsize=6)\n",
    "        plt.yticks(fontsize=6)\n",
    "        plt.gca().xaxis.set_major_locator(plt.MaxNLocator(5))\n",
    "        plt.gca().xaxis.set_minor_locator(plt.MultipleLocator(1))\n",
    "        plt.xlim([np.min(time_sec), np.max(time_sec)])\n",
    "        plt.show()"
   ]
  },
  {
   "cell_type": "markdown",
   "metadata": {},
   "source": [
    "# Filtering"
   ]
  },
  {
   "cell_type": "code",
   "execution_count": null,
   "metadata": {},
   "outputs": [],
   "source": [
    "# Mean removal along space dimension\n",
    "da_sel -= da_sel.mean(\"distance\")\n",
    "# Select band\n",
    "lowcut, highcut = 1.0, 25.0\n",
    "\n",
    "dt = xd.get_sampling_interval(da_sel, dim=\"time\")\n",
    "fs = 1 / dt\n",
    "fN = fs / 2\n",
    "bands = [lowcut / fN, highcut / fN]\n",
    "b, a = sp.butter(4, bands, 'bandpass', analog=False)\n",
    "da_fil = xd.signal.taper(da_sel, window=(\"tukey\", 0.01), dim=\"time\")\n",
    "da_fil = xd.signal.lfilter(b, a, da_fil, dim=\"time\")\n",
    "\n",
    "# Plot\n",
    "vlim = np.nanpercentile(np.abs(da_fil.values), 90)\n",
    "fig, axes = plt.subplots(\n",
    "    nrows=1,\n",
    "    ncols=1,\n",
    "    figsize=(150*mm, 80*mm),\n",
    "    dpi=300\n",
    ")\n",
    "ax = axes\n",
    "da_fil.plot(robust=True,\n",
    "    yincrease=False,\n",
    "    vmin=-vlim, vmax=vlim,\n",
    "    ax=ax, \n",
    "    cmap=\"seismic\", \n",
    "    cbar_kwargs={\n",
    "        \"label\": r\"$\\dot{\\varepsilon}$ [s$^{-1}$]\",\n",
    "    })\n",
    "plt.show()"
   ]
  },
  {
   "cell_type": "code",
   "execution_count": null,
   "metadata": {},
   "outputs": [],
   "source": []
  },
  {
   "cell_type": "code",
   "execution_count": 2,
   "metadata": {},
   "outputs": [
    {
     "name": "stderr",
     "output_type": "stream",
     "text": [
      "/Users/nicola/Library/Python/3.11/lib/python/site-packages/session_info/main.py:213: UserWarning: The '__version__' attribute is deprecated and will be removed in MarkupSafe 3.1. Use feature detection, or `importlib.metadata.version(\"markupsafe\")`, instead.\n",
      "  mod_version = _find_version(mod.__version__)\n"
     ]
    },
    {
     "data": {
      "text/html": [
       "<details>\n",
       "<summary>Click to view session information</summary>\n",
       "<pre>\n",
       "-----\n",
       "matplotlib          3.10.3\n",
       "numpy               2.2.6\n",
       "scipy               1.15.3\n",
       "session_info        v1.0.1\n",
       "xdas                NA\n",
       "-----\n",
       "</pre>\n",
       "<details>\n",
       "<summary>Click to view modules imported as dependencies</summary>\n",
       "<pre>\n",
       "PIL                 11.2.1\n",
       "appnope             0.1.4\n",
       "asttokens           NA\n",
       "cftime              1.6.4.post1\n",
       "charset_normalizer  3.4.2\n",
       "cloudpickle         3.1.1\n",
       "comm                0.2.2\n",
       "cycler              0.12.1\n",
       "cython_runtime      NA\n",
       "dask                2025.3.0\n",
       "dateutil            2.9.0.post0\n",
       "debugpy             1.8.14\n",
       "decorator           5.2.1\n",
       "executing           2.2.0\n",
       "h5netcdf            1.6.1\n",
       "h5py                3.13.0\n",
       "hdf5plugin          5.1.0\n",
       "importlib_metadata  NA\n",
       "ipykernel           6.29.5\n",
       "jedi                0.19.2\n",
       "jinja2              3.1.6\n",
       "kiwisolver          1.4.8\n",
       "llvmlite            0.44.0\n",
       "markupsafe          3.0.2\n",
       "mpl_toolkits        NA\n",
       "msgpack             1.1.0\n",
       "narwhals            1.40.0\n",
       "numba               0.61.2\n",
       "obspy               1.4.2\n",
       "packaging           25.0\n",
       "pandas              2.2.3\n",
       "parso               0.8.4\n",
       "pkg_resources       NA\n",
       "platformdirs        4.3.8\n",
       "plotly              6.1.1\n",
       "prompt_toolkit      3.0.51\n",
       "psutil              7.0.0\n",
       "pure_eval           0.2.3\n",
       "pydev_ipython       NA\n",
       "pydevconsole        NA\n",
       "pydevd              3.2.3\n",
       "pydevd_file_utils   NA\n",
       "pydevd_plugins      NA\n",
       "pydevd_tracing      NA\n",
       "pygments            2.19.1\n",
       "pyparsing           3.2.3\n",
       "pytz                2025.2\n",
       "six                 1.17.0\n",
       "stack_data          0.6.3\n",
       "tlz                 1.0.0\n",
       "toolz               1.0.0\n",
       "tornado             6.5\n",
       "tqdm                4.67.1\n",
       "traitlets           5.14.3\n",
       "typing_extensions   NA\n",
       "watchdog            NA\n",
       "wcwidth             0.2.13\n",
       "xarray              2025.4.0\n",
       "xinterp             NA\n",
       "yaml                6.0.2\n",
       "zipp                NA\n",
       "zmq                 26.4.0\n",
       "</pre>\n",
       "</details> <!-- seems like this ends pre, so might as well be explicit -->\n",
       "<pre>\n",
       "-----\n",
       "IPython             9.2.0\n",
       "jupyter_client      8.6.3\n",
       "jupyter_core        5.7.2\n",
       "-----\n",
       "Python 3.11.3 (main, Jul  5 2024, 15:31:01) [Clang 15.0.0 (clang-1500.1.0.2.5)]\n",
       "macOS-13.7.6-x86_64-i386-64bit\n",
       "-----\n",
       "Session information updated at 2025-06-18 17:05\n",
       "</pre>\n",
       "</details>"
      ],
      "text/plain": [
       "<IPython.core.display.HTML object>"
      ]
     },
     "execution_count": 2,
     "metadata": {},
     "output_type": "execute_result"
    }
   ],
   "source": [
    "import session_info\n",
    "session_info.show()"
   ]
  },
  {
   "cell_type": "code",
   "execution_count": null,
   "metadata": {},
   "outputs": [],
   "source": []
  }
 ],
 "metadata": {
  "kernelspec": {
   "display_name": "Python 3 (ipykernel)",
   "language": "python",
   "name": "python3"
  },
  "language_info": {
   "codemirror_mode": {
    "name": "ipython",
    "version": 3
   },
   "file_extension": ".py",
   "mimetype": "text/x-python",
   "name": "python",
   "nbconvert_exporter": "python",
   "pygments_lexer": "ipython3",
   "version": "3.11.3"
  }
 },
 "nbformat": 4,
 "nbformat_minor": 2
}
