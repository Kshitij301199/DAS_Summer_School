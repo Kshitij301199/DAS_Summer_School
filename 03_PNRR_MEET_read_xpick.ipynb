{
 "cells": [
  {
   "cell_type": "markdown",
   "id": "7c7ddef8",
   "metadata": {},
   "source": [
    "# Import"
   ]
  },
  {
   "cell_type": "code",
   "execution_count": 1,
   "id": "7c925e27",
   "metadata": {},
   "outputs": [],
   "source": [
    "import xdas as xd\n",
    "import pandas as pd\n",
    "import numpy as np\n",
    "import matplotlib.pyplot as plt"
   ]
  },
  {
   "cell_type": "markdown",
   "id": "1bf042f0",
   "metadata": {},
   "source": [
    "# Paths and directories"
   ]
  },
  {
   "cell_type": "code",
   "execution_count": null,
   "id": "13f64f11",
   "metadata": {},
   "outputs": [],
   "source": [
    "# Path to xpick picks\n",
    "path_to_csv = f\"./data/manual_picks/event.csv\"\n",
    "# Path to data\n",
    "h5_dir = f\"./data/17815r/\""
   ]
  },
  {
   "cell_type": "code",
   "execution_count": null,
   "id": "4c9e7c97",
   "metadata": {},
   "outputs": [],
   "source": [
    "data = xd.open_mfdataarray(f\"{h5_dir}/*.nc\")\n",
    "picks = pd.read_csv(f\"{path_to_csv}\", parse_dates=[\"time\"])"
   ]
  },
  {
   "cell_type": "markdown",
   "id": "dbb5a201",
   "metadata": {},
   "source": [
    "# Interpolate picks on cable distances"
   ]
  },
  {
   "cell_type": "code",
   "execution_count": null,
   "id": "29a93f0f",
   "metadata": {},
   "outputs": [],
   "source": [
    "#Max distance (m) to interpolate within when no picks are found\n",
    "max_dist = 200.0\n",
    "picks[\"time\"] = (picks[\"time\"] - np.datetime64(0, \"ns\")) / np.timedelta64(1, \"ns\")\n",
    "dp = xd.DataCollection({})\n",
    "for phase, df in picks.groupby(\"phase\"):\n",
    "    df = df.sort_values(\"distance\")\n",
    "    df = df.drop_duplicates(\"distance\")\n",
    "    df = df.set_index(\"distance\")[\"time\"]\n",
    "    da = df.to_xarray()\n",
    "    d = da[\"distance\"].values\n",
    "    m = np.diff(d) < max_dist\n",
    "    (idx,) = np.where(~m)\n",
    "    start = d[idx]\n",
    "    end = d[idx + 1]\n",
    "    da = da.interp(distance=data[\"distance\"].values)\n",
    "    for k in range(len(idx)):\n",
    "        da.loc[dict(distance=slice(start[k], end[k]))] = np.nan\n",
    "    dp[phase] = da"
   ]
  },
  {
   "cell_type": "markdown",
   "id": "bd36138d",
   "metadata": {},
   "source": [
    "# Save outputs in a dataframe"
   ]
  },
  {
   "cell_type": "code",
   "execution_count": null,
   "id": "65bd978a",
   "metadata": {},
   "outputs": [],
   "source": [
    "picks_df = pd.DataFrame()\n",
    "for phase in dp:\n",
    "    arr = np.array(dp[phase], dtype='datetime64[ns]')\n",
    "    time = np.array(arr, dtype='datetime64[ns]')\n",
    "    time = xd.DataArray(time, {\"distance\": dp[phase][\"distance\"].values})\n",
    "    time.name = \"picks\"\n",
    "    interp_df = pd.DataFrame(\n",
    "        {\n",
    "            \"distance\": dp[phase][\"distance\"].values,\n",
    "            \"picks\": time.values,\n",
    "            \"Phase\": phase,\n",
    "        }\n",
    "    )\n",
    "    ds = xd.get_sampling_interval(data, dim=\"distance\")\n",
    "    interp_df[\"channel\"] = interp_df[\"distance\"].values / ds\n",
    "    interp_df[\"distance\"] = interp_df[\"distance\"].round(2).astype(float)\n",
    "    interp_df[\"channel\"] = interp_df[\"channel\"].round().astype(int)\n",
    "    interp_df[\"Phase\"] = phase\n",
    "    picks_df = pd.concat([picks_df, interp_df], ignore_index=True)\n",
    "\n",
    "picks_df.to_csv(\"./data/picks/event.csv\", index=False)"
   ]
  },
  {
   "cell_type": "markdown",
   "id": "5a4cf8a0",
   "metadata": {},
   "source": [
    "# Visualize picks"
   ]
  },
  {
   "cell_type": "code",
   "execution_count": null,
   "id": "645695bb",
   "metadata": {},
   "outputs": [],
   "source": [
    "# -- Axes --\n",
    "plt.rcParams[\"axes.spines.bottom\"] = True\n",
    "plt.rcParams[\"axes.spines.left\"] = True\n",
    "plt.rcParams[\"axes.spines.right\"] = True\n",
    "plt.rcParams[\"axes.spines.top\"] = True\n",
    "plt.rcParams[\"grid.linewidth\"] = 0.5\n",
    "plt.rcParams[\"axes.axisbelow\"] = False\n",
    "plt.rcParams[\"axes.linewidth\"] = 1\n",
    "plt.rcParams[\"axes.ymargin\"] = 0.1\n",
    "plt.rcParams[\"font.size\"] = 10\n",
    "plt.rcParams[\"figure.dpi\"] = 300\n",
    "# -- Ticks and tick labels --\n",
    "plt.rcParams[\"axes.edgecolor\"] = \"k\"\n",
    "plt.rcParams[\"xtick.color\"] = \"k\"\n",
    "plt.rcParams[\"ytick.color\"] = \"k\"\n",
    "plt.rcParams[\"xtick.major.width\"] = 2\n",
    "plt.rcParams[\"ytick.major.width\"] = 2\n",
    "plt.rcParams[\"xtick.major.size\"] = 2\n",
    "plt.rcParams[\"xtick.minor.size\"] = 1\n",
    "plt.rcParams[\"ytick.major.size\"] = 2\n",
    "plt.rcParams[\"ytick.minor.size\"] = 1\n",
    "# -- Fonts --\n",
    "plt.rcParams[\"font.size\"] = 10\n",
    "plt.rcParams[\"text.color\"] = \"k\"\n",
    "plt.rcParams[\"axes.labelcolor\"] = \"k\"\n",
    "plt.rcParams[\"axes.labelsize\"] = 10\n",
    "# -- Saving Options --\n",
    "plt.rcParams[\"savefig.bbox\"] = \"tight\"\n",
    "plt.rcParams[\"savefig.dpi\"] = 300\n",
    "plt.rcParams[\"savefig.transparent\"] = False\n",
    "# -- Plot Styles --\n",
    "plt.rcParams[\"lines.linewidth\"] = 2\n",
    "plt.rcParams[\"lines.markersize\"] = 0.1\n",
    "plt.rcParams[\"lines.markeredgewidth\"] = 0.1\n",
    "plt.rcParams[\"figure.dpi\"] = 300\n",
    "\n",
    "mm = 1 / 25.4"
   ]
  },
  {
   "cell_type": "code",
   "execution_count": null,
   "id": "e6360f3e",
   "metadata": {},
   "outputs": [],
   "source": [
    "picks_df_open = pd.read_csv(\"./data/picks/event.csv\", parse_dates=[\"picks\"])"
   ]
  },
  {
   "cell_type": "code",
   "execution_count": null,
   "id": "965f161a",
   "metadata": {},
   "outputs": [],
   "source": [
    "vlim = np.nanpercentile(np.abs(data.values), 90)\n",
    "fig, axes = plt.subplots(\n",
    "    nrows=1,\n",
    "    ncols=1,\n",
    "    figsize=(150*mm, 80*mm),\n",
    "    dpi=300\n",
    ")\n",
    "ax = axes\n",
    "data.plot(robust=True,\n",
    "    yincrease=False,\n",
    "    vmin=-vlim, vmax=vlim,\n",
    "    ax=ax, \n",
    "    cmap=\"seismic\", \n",
    "    cbar_kwargs={\n",
    "        \"label\": r\"$\\dot{\\varepsilon}$ [s$^{-1}$]\",\n",
    "    })\n",
    "ax.scatter(picks_df_open[picks_df_open[\"Phase\"] == \"P\"][\"distance\"],\n",
    "              picks_df_open[picks_df_open[\"Phase\"] == \"P\"][\"picks\"],\n",
    "              label=\"Phase P\",\n",
    "              color=\"lime\"\n",
    ")\n",
    "ax.scatter(picks_df_open[picks_df_open[\"Phase\"] == \"S\"][\"distance\"],\n",
    "              picks_df_open[picks_df_open[\"Phase\"] == \"S\"][\"picks\"],\n",
    "              label=\"Phase S\",\n",
    "              color=\"orange\"\n",
    ")   "
   ]
  }
 ],
 "metadata": {
  "kernelspec": {
   "display_name": "Python 3 (ipykernel)",
   "language": "python",
   "name": "python3"
  },
  "language_info": {
   "codemirror_mode": {
    "name": "ipython",
    "version": 3
   },
   "file_extension": ".py",
   "mimetype": "text/x-python",
   "name": "python",
   "nbconvert_exporter": "python",
   "pygments_lexer": "ipython3",
   "version": "3.11.3"
  }
 },
 "nbformat": 4,
 "nbformat_minor": 5
}
