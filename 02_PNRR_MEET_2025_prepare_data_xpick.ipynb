{
 "cells": [
  {
   "cell_type": "markdown",
   "id": "f5e2ba67",
   "metadata": {},
   "source": [
    "# Import"
   ]
  },
  {
   "cell_type": "code",
   "execution_count": null,
   "id": "c8128ccd",
   "metadata": {},
   "outputs": [],
   "source": [
    "import xdas as xd"
   ]
  },
  {
   "cell_type": "markdown",
   "id": "e25eb030",
   "metadata": {},
   "source": [
    "# Paths and directories"
   ]
  },
  {
   "cell_type": "code",
   "execution_count": null,
   "id": "0729b1de",
   "metadata": {},
   "outputs": [],
   "source": [
    "h5_dir = f\"./data/17815r/\""
   ]
  },
  {
   "cell_type": "markdown",
   "id": "b34bce65",
   "metadata": {},
   "source": [
    "# Read and save data"
   ]
  },
  {
   "cell_type": "code",
   "execution_count": null,
   "id": "1c1faa8d",
   "metadata": {},
   "outputs": [],
   "source": [
    "da = xd.open_mfdataarray(f\"{h5_dir}/*.h5\", engine=\"febus\")\n",
    "# Time selection (fmt \"YYYY-MM-DDTHH:MM:SS.sss\")\n",
    "starttime = \"2025-03-18T09:01:20.000\"\n",
    "endtime = \"2025-03-18T09:02:05.000\"\n",
    "# Distance selection (in meters)\n",
    "startdist = 60.0\n",
    "enddist = 21450.0\n",
    "\n",
    "da_sel = da.sel(\n",
    "    time=slice(starttime, endtime),\n",
    "    distance=slice(startdist, enddist),\n",
    ")\n",
    "\n",
    "# Save as a single netCDF file\n",
    "da_sel.to_netcdf(f\"{h5_dir}/data.nc\", virtual=False)"
   ]
  },
  {
   "cell_type": "markdown",
   "id": "7e9cc17b",
   "metadata": {},
   "source": [
    "# Launch xpick"
   ]
  },
  {
   "cell_type": "code",
   "execution_count": null,
   "id": "d9d5be26",
   "metadata": {},
   "outputs": [],
   "source": [
    "'''\n",
    "To visualize and pick the data, you can use xpick from terminal:\n",
    "\n",
    "xpick f\"{h5_dir}/data.nc\"\n",
    "\n",
    "Documentation:\n",
    "https://github.com/xdas-dev/xpick\n",
    "\n",
    "help:\n",
    "xpick -h\n",
    "'''"
   ]
  }
 ],
 "metadata": {
  "kernelspec": {
   "display_name": "meet_ss",
   "language": "python",
   "name": "python3"
  },
  "language_info": {
   "codemirror_mode": {
    "name": "ipython",
    "version": 3
   },
   "file_extension": ".py",
   "mimetype": "text/x-python",
   "name": "python",
   "nbconvert_exporter": "python",
   "pygments_lexer": "ipython3",
   "version": "3.12.11"
  }
 },
 "nbformat": 4,
 "nbformat_minor": 5
}
