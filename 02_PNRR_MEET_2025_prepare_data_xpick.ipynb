{
 "cells": [
  {
   "cell_type": "markdown",
   "id": "f5e2ba67",
   "metadata": {},
   "source": [
    "# Import"
   ]
  },
  {
   "cell_type": "code",
   "execution_count": 1,
   "id": "c8128ccd",
   "metadata": {},
   "outputs": [],
   "source": [
    "import xdas as xd"
   ]
  },
  {
   "cell_type": "markdown",
   "id": "e25eb030",
   "metadata": {},
   "source": [
    "# Paths and directories"
   ]
  },
  {
   "cell_type": "code",
   "execution_count": 2,
   "id": "0729b1de",
   "metadata": {},
   "outputs": [],
   "source": [
    "h5_dir = f\"./data/17815r/\""
   ]
  },
  {
   "cell_type": "markdown",
   "id": "b34bce65",
   "metadata": {},
   "source": [
    "# Read and save data"
   ]
  },
  {
   "cell_type": "code",
   "execution_count": 3,
   "id": "1c1faa8d",
   "metadata": {},
   "outputs": [
    {
     "name": "stderr",
     "output_type": "stream",
     "text": [
      "/Users/nicola/Library/Python/3.11/lib/python/site-packages/xdas/io/febus.py:61: UserWarning: No overlap specified, Xdas will try its best to find the correct trimming\n",
      "  warnings.warn(\n",
      "/Users/nicola/Library/Python/3.11/lib/python/site-packages/xdas/io/febus.py:61: UserWarning: No overlap specified, Xdas will try its best to find the correct trimming\n",
      "  warnings.warn(\n",
      "/Users/nicola/Library/Python/3.11/lib/python/site-packages/xdas/io/febus.py:75: UserWarning: No offset specified, Xdas will try its best to place the timestamps\n",
      "  warnings.warn(\n",
      "/Users/nicola/Library/Python/3.11/lib/python/site-packages/xdas/io/febus.py:75: UserWarning: No offset specified, Xdas will try its best to place the timestamps\n",
      "  warnings.warn(\n",
      "/Users/nicola/Library/Python/3.11/lib/python/site-packages/xdas/io/febus.py:61: UserWarning: No overlap specified, Xdas will try its best to find the correct trimming\n",
      "  warnings.warn(\n",
      "/Users/nicola/Library/Python/3.11/lib/python/site-packages/xdas/io/febus.py:75: UserWarning: No offset specified, Xdas will try its best to place the timestamps\n",
      "  warnings.warn(\n",
      "/Users/nicola/Library/Python/3.11/lib/python/site-packages/xdas/io/febus.py:61: UserWarning: No overlap specified, Xdas will try its best to find the correct trimming\n",
      "  warnings.warn(\n",
      "/Users/nicola/Library/Python/3.11/lib/python/site-packages/xdas/io/febus.py:75: UserWarning: No offset specified, Xdas will try its best to place the timestamps\n",
      "  warnings.warn(\n"
     ]
    }
   ],
   "source": [
    "da = xd.open_mfdataarray(f\"{h5_dir}/*.h5\", engine=\"febus\")\n",
    "# Time selection (fmt \"YYYY-MM-DDTHH:MM:SS.sss\")\n",
    "starttime = \"2025-03-18T09:01:20.000\"\n",
    "endtime = \"2025-03-18T09:02:05.000\"\n",
    "# Distance selection (in meters)\n",
    "startdist = 60.0\n",
    "enddist = 21450.0\n",
    "\n",
    "da_sel = da.sel(\n",
    "    time=slice(starttime, endtime),\n",
    "    distance=slice(startdist, enddist),\n",
    ")\n",
    "\n",
    "# Save as a single netCDF file\n",
    "da_sel.to_netcdf(f\"{h5_dir}/data.nc\", virtual=False)"
   ]
  },
  {
   "cell_type": "markdown",
   "id": "7e9cc17b",
   "metadata": {},
   "source": [
    "# Launch xpick"
   ]
  },
  {
   "cell_type": "markdown",
   "id": "cc3b9bf9",
   "metadata": {},
   "source": [
    "#### Original from Claudio Strumia, for running xpick on the local machine from a terminal\n",
    "\n",
    "* run xpick from the enviroment created for xdas and xpick:\n",
    "\n",
    "$ xpick PATH_TO_NC_FILE\n",
    "\n",
    "* Open a browser and insert the http link:\n",
    "\n",
    "http://localhost:5006/app\n",
    "\n"
   ]
  },
  {
   "cell_type": "code",
   "execution_count": 7,
   "id": "3eac99b2",
   "metadata": {},
   "outputs": [],
   "source": [
    "#\n",
    "# To visualize and pick the data, you can use xpick from terminal:\n",
    "\n",
    "#  xpick f\"{h5_dir}/data.nc\"\n",
    "\n",
    "# Documentation:\n",
    "# https://github.com/xdas-dev/xpick\n",
    "\n",
    "# help:\n",
    "# xpick -h\n"
   ]
  },
  {
   "cell_type": "markdown",
   "id": "e3caf17c",
   "metadata": {},
   "source": [
    "\n",
    "#### NOT WORKING YET\n",
    "\n",
    "Nicola\\' s version, for running xpick in Binder. Need to understand how to proxy the localhost."
   ]
  },
  {
   "cell_type": "code",
   "execution_count": 6,
   "id": "d9d5be26",
   "metadata": {},
   "outputs": [
    {
     "name": "stdout",
     "output_type": "stream",
     "text": [
      "zsh:1: command not found: xpick\r\n"
     ]
    }
   ],
   "source": [
    "\n",
    "# To visualize and pick the data, you can use xpick from terminal:\n",
    "\n",
    "! xpick f\"{h5_dir}/data.nc\"\n"
   ]
  },
  {
   "cell_type": "code",
   "execution_count": null,
   "id": "4bc11de3",
   "metadata": {},
   "outputs": [],
   "source": []
  }
 ],
 "metadata": {
  "kernelspec": {
   "display_name": "Python 3 (ipykernel)",
   "language": "python",
   "name": "python3"
  },
  "language_info": {
   "codemirror_mode": {
    "name": "ipython",
    "version": 3
   },
   "file_extension": ".py",
   "mimetype": "text/x-python",
   "name": "python",
   "nbconvert_exporter": "python",
   "pygments_lexer": "ipython3",
   "version": "3.11.3"
  }
 },
 "nbformat": 4,
 "nbformat_minor": 5
}
