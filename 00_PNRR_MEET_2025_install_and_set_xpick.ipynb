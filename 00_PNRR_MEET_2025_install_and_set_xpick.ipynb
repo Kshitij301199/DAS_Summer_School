{
 "cells": [
  {
   "cell_type": "code",
   "execution_count": null,
   "id": "a490211c",
   "metadata": {},
   "outputs": [],
   "source": [
    "! python3.11 -m pip install \"git+https://github.com/xdas-dev/xpick.git\""
   ]
  },
  {
   "cell_type": "code",
   "execution_count": null,
   "id": "1c19b36a",
   "metadata": {},
   "outputs": [],
   "source": []
  },
  {
   "cell_type": "code",
   "execution_count": null,
   "id": "46042966",
   "metadata": {},
   "outputs": [],
   "source": []
  }
 ],
 "metadata": {
  "kernelspec": {
   "display_name": "Python 3 (ipykernel)",
   "language": "python",
   "name": "python3"
  },
  "language_info": {
   "codemirror_mode": {
    "name": "ipython",
    "version": 3
   },
   "file_extension": ".py",
   "mimetype": "text/x-python",
   "name": "python",
   "nbconvert_exporter": "python",
   "pygments_lexer": "ipython3",
   "version": "3.11.3"
  }
 },
 "nbformat": 4,
 "nbformat_minor": 5
}
