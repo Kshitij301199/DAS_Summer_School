{
 "cells": [
  {
   "cell_type": "markdown",
   "metadata": {},
   "source": [
    "# Import"
   ]
  },
  {
   "cell_type": "code",
   "execution_count": null,
   "metadata": {},
   "outputs": [],
   "source": [
    "import xdas as xd\n",
    "import numpy as np\n",
    "import scipy.signal as sp\n",
    "import matplotlib.pyplot as plt\n",
    "import matplotlib.colors as colors\n",
    "import matplotlib.dates as mdates"
   ]
  },
  {
   "cell_type": "code",
   "execution_count": null,
   "metadata": {},
   "outputs": [],
   "source": [
    "# -- Axes --\n",
    "plt.rcParams[\"axes.spines.bottom\"] = True\n",
    "plt.rcParams[\"axes.spines.left\"] = True\n",
    "plt.rcParams[\"axes.spines.right\"] = True\n",
    "plt.rcParams[\"axes.spines.top\"] = True\n",
    "plt.rcParams[\"grid.linewidth\"] = 0.5\n",
    "plt.rcParams[\"axes.axisbelow\"] = False\n",
    "plt.rcParams[\"axes.linewidth\"] = 1\n",
    "plt.rcParams[\"axes.ymargin\"] = 0.1\n",
    "plt.rcParams[\"font.size\"] = 10\n",
    "plt.rcParams[\"figure.dpi\"] = 300\n",
    "# -- Ticks and tick labels --\n",
    "plt.rcParams[\"axes.edgecolor\"] = \"k\"\n",
    "plt.rcParams[\"xtick.color\"] = \"k\"\n",
    "plt.rcParams[\"ytick.color\"] = \"k\"\n",
    "plt.rcParams[\"xtick.major.width\"] = 2\n",
    "plt.rcParams[\"ytick.major.width\"] = 2\n",
    "plt.rcParams[\"xtick.major.size\"] = 2\n",
    "plt.rcParams[\"xtick.minor.size\"] = 1\n",
    "plt.rcParams[\"ytick.major.size\"] = 2\n",
    "plt.rcParams[\"ytick.minor.size\"] = 1\n",
    "# -- Fonts --\n",
    "plt.rcParams[\"font.size\"] = 10\n",
    "plt.rcParams[\"text.color\"] = \"k\"\n",
    "plt.rcParams[\"axes.labelcolor\"] = \"k\"\n",
    "plt.rcParams[\"axes.labelsize\"] = 10\n",
    "# -- Saving Options --\n",
    "plt.rcParams[\"savefig.bbox\"] = \"tight\"\n",
    "plt.rcParams[\"savefig.dpi\"] = 300\n",
    "plt.rcParams[\"savefig.transparent\"] = False\n",
    "# -- Plot Styles --\n",
    "plt.rcParams[\"lines.linewidth\"] = 2\n",
    "plt.rcParams[\"lines.markersize\"] = 0.1\n",
    "plt.rcParams[\"lines.markeredgewidth\"] = 0.1\n",
    "plt.rcParams[\"figure.dpi\"] = 300\n",
    "\n",
    "mm = 1 / 25.4"
   ]
  },
  {
   "cell_type": "markdown",
   "metadata": {},
   "source": [
    "# Paths and directories"
   ]
  },
  {
   "cell_type": "code",
   "execution_count": null,
   "metadata": {},
   "outputs": [],
   "source": [
    "h5_dir = f\"./data/17815r/\""
   ]
  },
  {
   "cell_type": "markdown",
   "metadata": {},
   "source": [
    "# Read data"
   ]
  },
  {
   "cell_type": "code",
   "execution_count": null,
   "metadata": {},
   "outputs": [],
   "source": [
    "da = xd.open_mfdataarray(f\"{h5_dir}/*.h5\", engine=\"febus\")"
   ]
  },
  {
   "cell_type": "markdown",
   "metadata": {},
   "source": [
    "# First plot raw  (just mean removal)"
   ]
  },
  {
   "cell_type": "code",
   "execution_count": null,
   "metadata": {},
   "outputs": [],
   "source": [
    "vlim = np.nanpercentile(np.abs(da.values), 90)\n",
    "fig, axes = plt.subplots(\n",
    "    nrows=1,\n",
    "    ncols=1,\n",
    "    figsize=(150*mm, 80*mm),\n",
    "    dpi=300\n",
    ")\n",
    "ax = axes\n",
    "da.plot(robust=True,\n",
    "    yincrease=False,\n",
    "    vmin=-vlim, vmax=vlim,\n",
    "    ax=ax, \n",
    "    cmap=\"seismic\", \n",
    "    cbar_kwargs={\n",
    "        \"label\": r\"$\\dot{\\varepsilon}$ [s$^{-1}$]\",\n",
    "    })\n",
    "plt.show()"
   ]
  },
  {
   "cell_type": "markdown",
   "metadata": {},
   "source": [
    "# Data selection"
   ]
  },
  {
   "cell_type": "code",
   "execution_count": null,
   "metadata": {},
   "outputs": [],
   "source": [
    "# Time selection (fmt \"YYYY-MM-DDTHH:MM:SS.sss\")\n",
    "starttime = \"2025-03-18T09:01:20.000\"\n",
    "endtime = \"2025-03-18T09:02:05.000\"\n",
    "# Distance selection (in meters)\n",
    "startdist = 60.0\n",
    "enddist = 21450.0\n",
    "\n",
    "da_sel = da.sel(\n",
    "    time=slice(starttime, endtime),\n",
    "    distance=slice(startdist, enddist),\n",
    ")\n",
    "\n",
    "# Plot\n",
    "vlim = np.nanpercentile(np.abs(da_sel.values), 90)\n",
    "fig, axes = plt.subplots(\n",
    "    nrows=1,\n",
    "    ncols=1,\n",
    "    figsize=(150*mm, 80*mm),\n",
    "    dpi=300\n",
    ")\n",
    "ax = axes\n",
    "da_sel.plot(robust=True,\n",
    "    yincrease=False,\n",
    "    vmin=-vlim, vmax=vlim,\n",
    "    ax=ax, \n",
    "    cmap=\"seismic\", \n",
    "    cbar_kwargs={\n",
    "        \"label\": r\"$\\dot{\\varepsilon}$ [s$^{-1}$]\",\n",
    "    })\n",
    "plt.show()"
   ]
  },
  {
   "cell_type": "markdown",
   "metadata": {},
   "source": [
    "# Plot single traces very N receivers"
   ]
  },
  {
   "cell_type": "code",
   "execution_count": null,
   "metadata": {},
   "outputs": [],
   "source": [
    "N = 400\n",
    "for ch, dist in enumerate(da_sel[\"distance\"]):\n",
    "    if (ch % N == 0) & (ch != 0):\n",
    "        trace = da_sel.isel(distance=ch)\n",
    "        time_sec = (trace[\"time\"].values - trace[\"time\"].values[0]) / np.timedelta64(1, \"s\")\n",
    "        maxamp = np.max(np.abs(trace.values))\n",
    "        ylim = maxamp + maxamp * 0.05\n",
    "        plt.figure(\n",
    "            figsize=(100*mm, 25*mm),\n",
    "        )\n",
    "        plt.plot(time_sec, trace, \"k\", lw=0.5)\n",
    "        plt.ylim([-ylim, ylim])\n",
    "        plt.xlabel(\"Time (UTC)\", fontsize=8)\n",
    "        plt.ylabel(r\"$\\dot{\\varepsilon}$ [s$^{-1}$]\", fontsize=8)\n",
    "        plt.title(f\"Distance from DAS: {np.round(trace['distance'].values, 1)}m\", fontsize=8)\n",
    "        plt.xticks(fontsize=6)\n",
    "        plt.yticks(fontsize=6)\n",
    "        plt.gca().xaxis.set_major_locator(plt.MaxNLocator(5))\n",
    "        plt.gca().xaxis.set_minor_locator(plt.MultipleLocator(1))\n",
    "        plt.xlim([np.min(time_sec), np.max(time_sec)])\n",
    "        plt.show()"
   ]
  },
  {
   "cell_type": "markdown",
   "metadata": {},
   "source": [
    "# Filtering"
   ]
  },
  {
   "cell_type": "code",
   "execution_count": null,
   "metadata": {},
   "outputs": [],
   "source": [
    "# Mean removal along space dimension\n",
    "da_sel -= da_sel.mean(\"distance\")\n",
    "# Select band\n",
    "lowcut, highcut = 1.0, 25.0\n",
    "\n",
    "dt = xd.get_sampling_interval(da_sel, dim=\"time\")\n",
    "fs = 1 / dt\n",
    "fN = fs / 2\n",
    "bands = [lowcut / fN, highcut / fN]\n",
    "b, a = sp.butter(4, bands, 'bandpass', analog=False)\n",
    "da_fil = xd.signal.taper(da_sel, window=(\"tukey\", 0.01), dim=\"time\")\n",
    "da_fil = xd.signal.lfilter(b, a, da_fil, dim=\"time\")\n",
    "\n",
    "# Plot\n",
    "vlim = np.nanpercentile(np.abs(da_fil.values), 90)\n",
    "fig, axes = plt.subplots(\n",
    "    nrows=1,\n",
    "    ncols=1,\n",
    "    figsize=(150*mm, 80*mm),\n",
    "    dpi=300\n",
    ")\n",
    "ax = axes\n",
    "da_fil.plot(robust=True,\n",
    "    yincrease=False,\n",
    "    vmin=-vlim, vmax=vlim,\n",
    "    ax=ax, \n",
    "    cmap=\"seismic\", \n",
    "    cbar_kwargs={\n",
    "        \"label\": r\"$\\dot{\\varepsilon}$ [s$^{-1}$]\",\n",
    "    })\n",
    "plt.show()"
   ]
  },
  {
   "cell_type": "code",
   "execution_count": null,
   "metadata": {},
   "outputs": [],
   "source": []
  },
  {
   "cell_type": "code",
   "execution_count": null,
   "metadata": {},
   "outputs": [],
   "source": [
    "%load_ext watermark\n",
    "%watermark -v -p numpy,scipy,matplotlib,obspy,ipywidgets,h5py,scipy"
   ]
  },
  {
   "cell_type": "code",
   "execution_count": null,
   "metadata": {},
   "outputs": [],
   "source": []
  }
 ],
 "metadata": {
  "kernelspec": {
   "display_name": "Python 3 (ipykernel)",
   "language": "python",
   "name": "python3"
  },
  "language_info": {
   "codemirror_mode": {
    "name": "ipython",
    "version": 3
   },
   "file_extension": ".py",
   "mimetype": "text/x-python",
   "name": "python",
   "nbconvert_exporter": "python",
   "pygments_lexer": "ipython3",
   "version": "3.11.3"
  }
 },
 "nbformat": 4,
 "nbformat_minor": 2
}
